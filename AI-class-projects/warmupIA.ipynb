{
  "nbformat": 4,
  "nbformat_minor": 0,
  "metadata": {
    "colab": {
      "name": "Copy of 02warmupIA.ipynb",
      "version": "0.3.2",
      "provenance": []
    },
    "kernelspec": {
      "display_name": "Python 3",
      "language": "python",
      "name": "python3"
    }
  },
  "cells": [
    {
      "metadata": {
        "collapsed": true,
        "id": "F8iX_0E9kmFj",
        "colab_type": "text"
      },
      "cell_type": "markdown",
      "source": [
        "# Busca global"
      ]
    },
    {
      "metadata": {
        "scrolled": true,
        "id": "Oh5bfF59kmFl",
        "colab_type": "code",
        "colab": {
          "base_uri": "https://localhost:8080/",
          "height": 367
        },
        "outputId": "0420101b-d735-491a-956c-ca214f33b278"
      },
      "cell_type": "code",
      "source": [
        "from search import *\n",
        "\n",
        "# Needed to hide warnings in the matplotlib sections\n",
        "import warnings\n",
        "warnings.filterwarnings(\"ignore\")"
      ],
      "execution_count": 1,
      "outputs": [
        {
          "output_type": "error",
          "ename": "ModuleNotFoundError",
          "evalue": "ignored",
          "traceback": [
            "\u001b[0;31m---------------------------------------------------------------------------\u001b[0m",
            "\u001b[0;31mModuleNotFoundError\u001b[0m                       Traceback (most recent call last)",
            "\u001b[0;32m<ipython-input-1-bfbc1d8d040d>\u001b[0m in \u001b[0;36m<module>\u001b[0;34m()\u001b[0m\n\u001b[0;32m----> 1\u001b[0;31m \u001b[0;32mfrom\u001b[0m \u001b[0msearch\u001b[0m \u001b[0;32mimport\u001b[0m \u001b[0;34m*\u001b[0m\u001b[0;34m\u001b[0m\u001b[0m\n\u001b[0m\u001b[1;32m      2\u001b[0m \u001b[0;34m\u001b[0m\u001b[0m\n\u001b[1;32m      3\u001b[0m \u001b[0;31m# Needed to hide warnings in the matplotlib sections\u001b[0m\u001b[0;34m\u001b[0m\u001b[0;34m\u001b[0m\u001b[0m\n\u001b[1;32m      4\u001b[0m \u001b[0;32mimport\u001b[0m \u001b[0mwarnings\u001b[0m\u001b[0;34m\u001b[0m\u001b[0m\n\u001b[1;32m      5\u001b[0m \u001b[0mwarnings\u001b[0m\u001b[0;34m.\u001b[0m\u001b[0mfilterwarnings\u001b[0m\u001b[0;34m(\u001b[0m\u001b[0;34m\"ignore\"\u001b[0m\u001b[0;34m)\u001b[0m\u001b[0;34m\u001b[0m\u001b[0m\n",
            "\u001b[0;31mModuleNotFoundError\u001b[0m: No module named 'search'",
            "",
            "\u001b[0;31m---------------------------------------------------------------------------\u001b[0;32m\nNOTE: If your import is failing due to a missing package, you can\nmanually install dependencies using either !pip or !apt.\n\nTo view examples of installing some common dependencies, click the\n\"Open Examples\" button below.\n\u001b[0;31m---------------------------------------------------------------------------\u001b[0m\n"
          ]
        }
      ]
    },
    {
      "metadata": {
        "id": "dOsg6fzRkmFq",
        "colab_type": "text"
      },
      "cell_type": "markdown",
      "source": [
        "## Problema"
      ]
    },
    {
      "metadata": {
        "id": "mMH9cVMPkmFr",
        "colab_type": "code",
        "colab": {
          "base_uri": "https://localhost:8080/",
          "height": 34
        },
        "outputId": "764861e2-1b07-4222-a90e-9532a8dfd198"
      },
      "cell_type": "code",
      "source": [
        "%psource Problem"
      ],
      "execution_count": 5,
      "outputs": [
        {
          "output_type": "stream",
          "text": [
            "Object `Problem` not found.\n"
          ],
          "name": "stdout"
        }
      ]
    },
    {
      "metadata": {
        "id": "K292K11jkmFy",
        "colab_type": "code",
        "colab": {
          "base_uri": "https://localhost:8080/",
          "height": 34
        },
        "outputId": "4a0c54e2-08a6-4360-e060-b41a7a6ba855"
      },
      "cell_type": "code",
      "source": [
        "%psource GraphProblem"
      ],
      "execution_count": 4,
      "outputs": [
        {
          "output_type": "stream",
          "text": [
            "Object `GraphProblem` not found.\n"
          ],
          "name": "stdout"
        }
      ]
    },
    {
      "metadata": {
        "id": "ABZNxjyTkmF3",
        "colab_type": "code",
        "colab": {}
      },
      "cell_type": "code",
      "source": [
        "romania_map = UndirectedGraph(dict(\n",
        "    Arad=dict(Zerind=75, Sibiu=140, Timisoara=118),\n",
        "    Bucharest=dict(Urziceni=85, Pitesti=101, Giurgiu=90, Fagaras=211),\n",
        "    Craiova=dict(Drobeta=120, Rimnicu=146, Pitesti=138),\n",
        "    Drobeta=dict(Mehadia=75),\n",
        "    Eforie=dict(Hirsova=86),\n",
        "    Fagaras=dict(Sibiu=99),\n",
        "    Hirsova=dict(Urziceni=98),\n",
        "    Iasi=dict(Vaslui=92, Neamt=87),\n",
        "    Lugoj=dict(Timisoara=111, Mehadia=70),\n",
        "    Oradea=dict(Zerind=71, Sibiu=151),\n",
        "    Pitesti=dict(Rimnicu=97),\n",
        "    Rimnicu=dict(Sibiu=80),\n",
        "    Urziceni=dict(Vaslui=142)))\n",
        "\n",
        "romania_map.locations = dict(\n",
        "    Arad=(91, 492), Bucharest=(400, 327), Craiova=(253, 288),\n",
        "    Drobeta=(165, 299), Eforie=(562, 293), Fagaras=(305, 449),\n",
        "    Giurgiu=(375, 270), Hirsova=(534, 350), Iasi=(473, 506),\n",
        "    Lugoj=(165, 379), Mehadia=(168, 339), Neamt=(406, 537),\n",
        "    Oradea=(131, 571), Pitesti=(320, 368), Rimnicu=(233, 410),\n",
        "    Sibiu=(207, 457), Timisoara=(94, 410), Urziceni=(456, 350),\n",
        "    Vaslui=(509, 444), Zerind=(108, 531))"
      ],
      "execution_count": 0,
      "outputs": []
    },
    {
      "metadata": {
        "id": "X1wDVoInkmF7",
        "colab_type": "code",
        "colab": {}
      },
      "cell_type": "code",
      "source": [
        "romania_problem = GraphProblem('Arad', 'Bucharest', romania_map)"
      ],
      "execution_count": 0,
      "outputs": []
    },
    {
      "metadata": {
        "id": "nC1nlH9ckmGB",
        "colab_type": "text"
      },
      "cell_type": "markdown",
      "source": [
        "# Visualização do mapa da Romênia"
      ]
    },
    {
      "metadata": {
        "id": "D3IePTwmkmGF",
        "colab_type": "code",
        "colab": {}
      },
      "cell_type": "code",
      "source": [
        "romania_locations = romania_map.locations\n",
        "print(romania_locations)"
      ],
      "execution_count": 0,
      "outputs": []
    },
    {
      "metadata": {
        "id": "2f5VC-mrkmGM",
        "colab_type": "text"
      },
      "cell_type": "markdown",
      "source": [
        "### Módulos necessários: networkx, matplotlib e ipywidgets."
      ]
    },
    {
      "metadata": {
        "id": "3ivJkUd1kmGO",
        "colab_type": "code",
        "colab": {
          "base_uri": "https://localhost:8080/",
          "height": 367
        },
        "outputId": "31229da1-e863-4f26-82b1-e74ba7533e62"
      },
      "cell_type": "code",
      "source": [
        "%matplotlib inline\n",
        "import networkx as nx\n",
        "import matplotlib.pyplot as plt\n",
        "from matplotlib import lines\n",
        "\n",
        "from ipywidgets import interact\n",
        "import ipywidgets as widgets\n",
        "from IPython.display import display\n",
        "import time"
      ],
      "execution_count": 5,
      "outputs": [
        {
          "output_type": "error",
          "ename": "ModuleNotFoundError",
          "evalue": "ignored",
          "traceback": [
            "\u001b[0;31m---------------------------------------------------------------------------\u001b[0m",
            "\u001b[0;31mModuleNotFoundError\u001b[0m                       Traceback (most recent call last)",
            "\u001b[0;32m<ipython-input-5-5fec2ab91cce>\u001b[0m in \u001b[0;36m<module>\u001b[0;34m()\u001b[0m\n\u001b[1;32m      4\u001b[0m \u001b[0;32mfrom\u001b[0m \u001b[0mmatplotlib\u001b[0m \u001b[0;32mimport\u001b[0m \u001b[0mlines\u001b[0m\u001b[0;34m\u001b[0m\u001b[0m\n\u001b[1;32m      5\u001b[0m \u001b[0;34m\u001b[0m\u001b[0m\n\u001b[0;32m----> 6\u001b[0;31m \u001b[0;32mfrom\u001b[0m \u001b[0mipywidgets\u001b[0m \u001b[0;32mimport\u001b[0m \u001b[0minteract\u001b[0m\u001b[0;34m\u001b[0m\u001b[0m\n\u001b[0m\u001b[1;32m      7\u001b[0m \u001b[0;32mimport\u001b[0m \u001b[0mipywidgets\u001b[0m \u001b[0;32mas\u001b[0m \u001b[0mwidgets\u001b[0m\u001b[0;34m\u001b[0m\u001b[0m\n\u001b[1;32m      8\u001b[0m \u001b[0;32mfrom\u001b[0m \u001b[0mIPython\u001b[0m\u001b[0;34m.\u001b[0m\u001b[0mdisplay\u001b[0m \u001b[0;32mimport\u001b[0m \u001b[0mdisplay\u001b[0m\u001b[0;34m\u001b[0m\u001b[0m\n",
            "\u001b[0;31mModuleNotFoundError\u001b[0m: No module named 'ipywidgets'",
            "",
            "\u001b[0;31m---------------------------------------------------------------------------\u001b[0;32m\nNOTE: If your import is failing due to a missing package, you can\nmanually install dependencies using either !pip or !apt.\n\nTo view examples of installing some common dependencies, click the\n\"Open Examples\" button below.\n\u001b[0;31m---------------------------------------------------------------------------\u001b[0m\n"
          ]
        }
      ]
    },
    {
      "metadata": {
        "id": "HFaoJ_2zkmGS",
        "colab_type": "code",
        "colab": {}
      },
      "cell_type": "code",
      "source": [
        "# initialise a graph\n",
        "G = nx.Graph()\n",
        "\n",
        "# use this while labeling nodes in the map\n",
        "node_labels = dict()\n",
        "# use this to modify colors of nodes while exploring the graph.\n",
        "# This is the only dict we send to `show_map(node_colors)` while drawing the map\n",
        "node_colors = dict()\n",
        "\n",
        "for n, p in romania_locations.items():\n",
        "    # add nodes from romania_locations\n",
        "    G.add_node(n)\n",
        "    # add nodes to node_labels\n",
        "    node_labels[n] = n\n",
        "    # node_colors to color nodes while exploring romania map\n",
        "    node_colors[n] = \"black\"\n",
        "\n",
        "# we'll save the initial node colors to a dict to use later\n",
        "initial_node_colors = dict(node_colors)\n",
        "    \n",
        "# positions for node labels\n",
        "node_label_pos = { k:[v[0],v[1]-10]  for k,v in romania_locations.items() }\n",
        "\n",
        "# use this while labeling edges\n",
        "edge_labels = dict()\n",
        "\n",
        "# add edges between cities in romania map - UndirectedGraph defined in search.py\n",
        "for node in romania_map.nodes():\n",
        "    connections = romania_map.get(node)\n",
        "    for connection in connections.keys():\n",
        "        distance = connections[connection]\n",
        "\n",
        "        # add edges to the graph\n",
        "        G.add_edge(node, connection)\n",
        "        # add distances to edge_labels\n",
        "        edge_labels[(node, connection)] = distance"
      ],
      "execution_count": 0,
      "outputs": []
    },
    {
      "metadata": {
        "id": "dMbDep83kmGY",
        "colab_type": "code",
        "colab": {}
      },
      "cell_type": "code",
      "source": [
        "def show_map(node_colors):\n",
        "    # set the size of the plot\n",
        "    plt.figure(figsize=(18,13))\n",
        "    # draw the graph (both nodes and edges) with locations from romania_locations\n",
        "    nx.draw(G, pos = romania_locations, node_color = [node_colors[node] for node in G.nodes()])\n",
        "\n",
        "    # draw labels for nodes\n",
        "    node_label_handles = nx.draw_networkx_labels(G, pos = node_label_pos, labels = node_labels, font_size = 14)\n",
        "    # add a white bounding box behind the node labels\n",
        "    [label.set_bbox(dict(facecolor='white', edgecolor='none')) for label in node_label_handles.values()]\n",
        "\n",
        "    # add edge lables to the graph\n",
        "    nx.draw_networkx_edge_labels(G, pos = romania_locations, edge_labels=edge_labels, font_size = 14)\n",
        "    \n",
        "    # add a legend\n",
        "    white_circle = lines.Line2D([], [], color=\"black\", marker='o', markersize=15, markerfacecolor=\"black\")\n",
        "    orange_circle = lines.Line2D([], [], color=\"orange\", marker='o', markersize=15, markerfacecolor=\"orange\")\n",
        "    red_circle = lines.Line2D([], [], color=\"red\", marker='o', markersize=15, markerfacecolor=\"red\")\n",
        "    gray_circle = lines.Line2D([], [], color=\"gray\", marker='o', markersize=15, markerfacecolor=\"gray\")\n",
        "    green_circle = lines.Line2D([], [], color=\"green\", marker='o', markersize=15, markerfacecolor=\"green\")\n",
        "    plt.legend((white_circle, orange_circle, red_circle, gray_circle, green_circle),\n",
        "               ('Un-explored', 'Frontier', 'Currently Exploring', 'Explored', 'Final Solution'),\n",
        "               numpoints=1,prop={'size':16}, loc=(.8,.75))\n",
        "    \n",
        "    # show the plot. No need to use in notebooks. nx.draw will show the graph itself.\n",
        "    plt.show()"
      ],
      "execution_count": 0,
      "outputs": []
    },
    {
      "metadata": {
        "id": "XWpbrPBskmGi",
        "colab_type": "code",
        "colab": {}
      },
      "cell_type": "code",
      "source": [
        "show_map(node_colors)"
      ],
      "execution_count": 0,
      "outputs": []
    },
    {
      "metadata": {
        "id": "fjNe8mm0kmGp",
        "colab_type": "text"
      },
      "cell_type": "markdown",
      "source": [
        "## Algoritmos de busca\n",
        "\n",
        "Cores:\n",
        "* Un-explored nodes - <font color='black'>black</font>\n",
        "* Frontier nodes - <font color='orange'>orange</font>\n",
        "* Currently exploring node - <font color='red'>red</font>\n",
        "* Already explored nodes - <font color='gray'>gray</font>"
      ]
    },
    {
      "metadata": {
        "id": "1h1N2DSwkmGr",
        "colab_type": "code",
        "colab": {}
      },
      "cell_type": "code",
      "source": [
        "def final_path_colors(problem, solution):\n",
        "    \"returns a node_colors dict of the final path provided the problem and solution\"\n",
        "    \n",
        "    # get initial node colors\n",
        "    final_colors = dict(initial_node_colors)\n",
        "    # color all the nodes in solution and starting node to green\n",
        "    final_colors[problem.initial] = \"green\"\n",
        "    for node in solution:\n",
        "        final_colors[node] = \"green\"  \n",
        "    return final_colors\n",
        "\n",
        "\n",
        "def display_visual(user_input, algorithm=None, problem=None):\n",
        "    if user_input == False:\n",
        "        def slider_callback(iteration):\n",
        "            # don't show graph for the first time running the cell calling this function\n",
        "            try:\n",
        "                show_map(all_node_colors[iteration])\n",
        "            except:\n",
        "                pass\n",
        "        def visualize_callback(Visualize):\n",
        "            if Visualize is True:\n",
        "                button.value = False\n",
        "                \n",
        "                global all_node_colors\n",
        "                \n",
        "                iterations, all_node_colors, node = algorithm(problem)\n",
        "                solution = node.solution()\n",
        "                all_node_colors.append(final_path_colors(problem, solution))\n",
        "                \n",
        "                slider.max = len(all_node_colors) - 1\n",
        "                \n",
        "                for i in range(slider.max + 1):\n",
        "                    slider.value = i\n",
        "                     #time.sleep(.5)\n",
        "        \n",
        "        slider = widgets.IntSlider(min=0, max=1, step=1, value=0)\n",
        "        slider_visual = widgets.interactive(slider_callback, iteration = slider)\n",
        "        display(slider_visual)\n",
        "\n",
        "        button = widgets.ToggleButton(value = False)\n",
        "        button_visual = widgets.interactive(visualize_callback, Visualize = button)\n",
        "        display(button_visual)\n",
        "    \n",
        "    if user_input == True:\n",
        "        node_colors = dict(initial_node_colors)\n",
        "        if algorithm == None:\n",
        "            algorithms = {\"Breadth First Tree Search\": breadth_first_tree_search}\n",
        "            algo_dropdown = widgets.Dropdown(description = \"Search algorithm: \",\n",
        "                                             options = sorted(list(algorithms.keys())),\n",
        "                                             value = \"Breadth First Tree Search\")\n",
        "            display(algo_dropdown)\n",
        "        \n",
        "        def slider_callback(iteration):\n",
        "            # don't show graph for the first time running the cell calling this function\n",
        "            try:\n",
        "                show_map(all_node_colors[iteration])\n",
        "            except:\n",
        "                pass\n",
        "            \n",
        "        def visualize_callback(Visualize):\n",
        "            if Visualize is True:\n",
        "                button.value = False\n",
        "                \n",
        "                problem = GraphProblem(start_dropdown.value, end_dropdown.value, romania_map)\n",
        "                global all_node_colors\n",
        "                \n",
        "                if algorithm == None:\n",
        "                    user_algorithm = algorithms[algo_dropdown.value]\n",
        "                \n",
        "#                 print(user_algorithm)\n",
        "#                 print(problem)\n",
        "                \n",
        "                iterations, all_node_colors, node = user_algorithm(problem)\n",
        "                solution = node.solution()\n",
        "                all_node_colors.append(final_path_colors(problem, solution))\n",
        "\n",
        "                slider.max = len(all_node_colors) - 1\n",
        "                \n",
        "                for i in range(slider.max + 1):\n",
        "                    slider.value = i\n",
        "#                    time.sleep(.5)\n",
        "                         \n",
        "        start_dropdown = widgets.Dropdown(description = \"Start city: \",\n",
        "                                          options = sorted(list(node_colors.keys())), value = \"Arad\")\n",
        "        display(start_dropdown)\n",
        "\n",
        "        end_dropdown = widgets.Dropdown(description = \"Goal city: \",\n",
        "                                        options = sorted(list(node_colors.keys())), value = \"Fagaras\")\n",
        "        display(end_dropdown)\n",
        "        \n",
        "        button = widgets.ToggleButton(value = False)\n",
        "        button_visual = widgets.interactive(visualize_callback, Visualize = button)\n",
        "        display(button_visual)\n",
        "        \n",
        "        slider = widgets.IntSlider(min=0, max=1, step=1, value=0)\n",
        "        slider_visual = widgets.interactive(slider_callback, iteration = slider)\n",
        "        display(slider_visual)"
      ],
      "execution_count": 0,
      "outputs": []
    },
    {
      "metadata": {
        "id": "Jx_N2E7DkmGw",
        "colab_type": "text"
      },
      "cell_type": "markdown",
      "source": [
        "\n",
        "## Breadth-First Search (BFS)"
      ]
    },
    {
      "metadata": {
        "id": "Om87R-ijkmG1",
        "colab_type": "code",
        "colab": {}
      },
      "cell_type": "code",
      "source": [
        "def tree_search(problem, frontier):\n",
        "    \"\"\"Search through the successors of a problem to find a goal.\n",
        "    The argument frontier should be an empty queue.\n",
        "    Don't worry about repeated paths to a state. [Figure 3.7]\"\"\"\n",
        "    \n",
        "    # we use these two variables at the time of visualisations\n",
        "    iterations = 0\n",
        "    all_node_colors = []\n",
        "    node_colors = dict(initial_node_colors)\n",
        "    \n",
        "    #Adding first node to the queue\n",
        "    frontier.append(Node(problem.initial))\n",
        "    \n",
        "    node_colors[Node(problem.initial).state] = \"orange\"\n",
        "    iterations += 1\n",
        "    all_node_colors.append(dict(node_colors))\n",
        "    \n",
        "    while frontier:\n",
        "        #Popping first node of queue\n",
        "        node = frontier.pop()\n",
        "        \n",
        "        # modify the currently searching node to red\n",
        "        node_colors[node.state] = \"red\"\n",
        "        iterations += 1\n",
        "        all_node_colors.append(dict(node_colors))\n",
        "        \n",
        "        if problem.goal_test(node.state):\n",
        "            # modify goal node to green after reaching the goal\n",
        "            node_colors[node.state] = \"green\"\n",
        "            iterations += 1\n",
        "            all_node_colors.append(dict(node_colors))\n",
        "            return(iterations, all_node_colors, node)\n",
        "        \n",
        "        frontier.extend(node.expand(problem))\n",
        "           \n",
        "        for n in node.expand(problem):\n",
        "            node_colors[n.state] = \"orange\"\n",
        "            iterations += 1\n",
        "            all_node_colors.append(dict(node_colors))\n",
        "\n",
        "        # modify the color of explored nodes to gray\n",
        "        node_colors[node.state] = \"gray\"\n",
        "        iterations += 1\n",
        "        all_node_colors.append(dict(node_colors))\n",
        "        \n",
        "    return None\n",
        "\n",
        "def breadth_first_tree_search(problem):\n",
        "    \"Search the shallowest nodes in the search tree first.\"\n",
        "    iterations, all_node_colors, node = tree_search(problem, FIFOQueue())\n",
        "    return(iterations, all_node_colors, node)"
      ],
      "execution_count": 0,
      "outputs": []
    },
    {
      "metadata": {
        "id": "JFKDS_2okmG8",
        "colab_type": "code",
        "outputId": "69a9cb85-74a0-4c36-d6c7-4fb7c8b19f5c",
        "colab": {
          "base_uri": "https://localhost:8080/",
          "height": 197
        }
      },
      "cell_type": "code",
      "source": [
        "all_node_colors = []\n",
        "romania_problem = GraphProblem('Arad', 'Bucharest', romania_map)\n",
        "display_visual(user_input = False, algorithm = breadth_first_tree_search, problem = romania_problem)"
      ],
      "execution_count": 3,
      "outputs": [
        {
          "output_type": "error",
          "ename": "NameError",
          "evalue": "ignored",
          "traceback": [
            "\u001b[0;31m---------------------------------------------------------------------------\u001b[0m",
            "\u001b[0;31mNameError\u001b[0m                                 Traceback (most recent call last)",
            "\u001b[0;32m<ipython-input-3-9bfb1f47237a>\u001b[0m in \u001b[0;36m<module>\u001b[0;34m()\u001b[0m\n\u001b[1;32m      1\u001b[0m \u001b[0mall_node_colors\u001b[0m \u001b[0;34m=\u001b[0m \u001b[0;34m[\u001b[0m\u001b[0;34m]\u001b[0m\u001b[0;34m\u001b[0m\u001b[0m\n\u001b[0;32m----> 2\u001b[0;31m \u001b[0mromania_problem\u001b[0m \u001b[0;34m=\u001b[0m \u001b[0mGraphProblem\u001b[0m\u001b[0;34m(\u001b[0m\u001b[0;34m'Arad'\u001b[0m\u001b[0;34m,\u001b[0m \u001b[0;34m'Bucharest'\u001b[0m\u001b[0;34m,\u001b[0m \u001b[0mromania_map\u001b[0m\u001b[0;34m)\u001b[0m\u001b[0;34m\u001b[0m\u001b[0m\n\u001b[0m\u001b[1;32m      3\u001b[0m \u001b[0mdisplay_visual\u001b[0m\u001b[0;34m(\u001b[0m\u001b[0muser_input\u001b[0m \u001b[0;34m=\u001b[0m \u001b[0;32mFalse\u001b[0m\u001b[0;34m,\u001b[0m \u001b[0malgorithm\u001b[0m \u001b[0;34m=\u001b[0m \u001b[0mbreadth_first_tree_search\u001b[0m\u001b[0;34m,\u001b[0m \u001b[0mproblem\u001b[0m \u001b[0;34m=\u001b[0m \u001b[0mromania_problem\u001b[0m\u001b[0;34m)\u001b[0m\u001b[0;34m\u001b[0m\u001b[0m\n",
            "\u001b[0;31mNameError\u001b[0m: name 'GraphProblem' is not defined"
          ]
        }
      ]
    },
    {
      "metadata": {
        "id": "lvu9UNxpkmHB",
        "colab_type": "text"
      },
      "cell_type": "markdown",
      "source": [
        "## Deph-First Search (DFS)"
      ]
    },
    {
      "metadata": {
        "id": "-jlG5JelkmHC",
        "colab_type": "code",
        "colab": {}
      },
      "cell_type": "code",
      "source": [
        "???"
      ],
      "execution_count": 0,
      "outputs": []
    }
  ]
}